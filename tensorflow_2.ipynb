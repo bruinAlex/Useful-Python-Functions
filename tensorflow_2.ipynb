{
 "cells": [
  {
   "cell_type": "markdown",
   "metadata": {},
   "source": [
    "# Useful Tensorflow 2.x Snippets\n",
    "***"
   ]
  },
  {
   "cell_type": "markdown",
   "metadata": {},
   "source": [
    "## Get basic tensorflow info\n",
    "\n",
    "\n",
    "```python\n",
    "import tensorflow as tf\n",
    "import tensorflow_hub as hub\n",
    "import tensorflow_datasets as tfds\n",
    "\n",
    "print(f\"Version: {tf.__version__}\")\n",
    "print(f\"Eager mode: {tf.executing_eagerly()}\")\n",
    "print(f\"Hub version: {hub.__version__}\")\n",
    "print(f\"GPU is {'available' if tf.config.experimental.list_physical_devices('GPU') else 'NOT AVAILABLE'}\")\n",
    "```\n",
    "\n",
    "***  "
   ]
  },
  {
   "cell_type": "code",
   "execution_count": null,
   "metadata": {},
   "outputs": [],
   "source": []
  }
 ],
 "metadata": {
  "kernelspec": {
   "display_name": "Python 3",
   "language": "python",
   "name": "python3"
  },
  "language_info": {
   "codemirror_mode": {
    "name": "ipython",
    "version": 3
   },
   "file_extension": ".py",
   "mimetype": "text/x-python",
   "name": "python",
   "nbconvert_exporter": "python",
   "pygments_lexer": "ipython3",
   "version": "3.7.6"
  }
 },
 "nbformat": 4,
 "nbformat_minor": 4
}
