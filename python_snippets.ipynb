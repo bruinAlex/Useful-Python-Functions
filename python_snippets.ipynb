{
 "cells": [
  {
   "cell_type": "markdown",
   "metadata": {},
   "source": [
    "# Useful Python Functions\n",
    "***"
   ]
  },
  {
   "cell_type": "markdown",
   "metadata": {},
   "source": [
    "## Show All Output in Jupyter\n",
    "<div>\n",
    "<img src=\"img/all_output.PNG\" width=\"180\"/>\n",
    "</div>\n",
    "\n",
    "\n",
    "\n",
    "```python\n",
    "from IPython.core.interactiveshell import InteractiveShell\n",
    "InteractiveShell.ast_node_interactivity = \"all\"\n",
    "```\n",
    "\n",
    "***  "
   ]
  },
  {
   "cell_type": "markdown",
   "metadata": {},
   "source": [
    "## Jupyter Notebook 100% Window Width\n",
    "In Jupyter Lab, the default seems to be 100% width and this is not necessary.\n",
    "\n",
    "```python\n",
    "from IPython.core.display import display, HTML\n",
    "display(HTML(\"<style>.container { width:100% !important; }</style>\"))\n",
    "```\n",
    "***  "
   ]
  },
  {
   "cell_type": "markdown",
   "metadata": {},
   "source": [
    "## Embedding Images in Jupyter Markdown\n",
    "Remember that these need to be in a markdown cell, and not a code cell.\n",
    "\n",
    "### Easy Way\n",
    "This is simpler but does not allow one to change the image size.  \n",
    "```python\n",
    "![title](img/tkinter_file_dialog.PNG)\n",
    "```\n",
    "\n",
    "### HTML Way\n",
    "Verbose, but the width attribute is available.\n",
    "```python\n",
    "<div>\n",
    "<img src=\"img/tkinter_file_dialog.PNG\" width=\"500\"/>\n",
    "</div>\n",
    "```\n",
    "***"
   ]
  },
  {
   "cell_type": "markdown",
   "metadata": {},
   "source": [
    "## Windows File Dialog Window\n",
    "<div>\n",
    "<img src=\"img/tkinter_file_dialog.PNG\" width=\"500\"/>\n",
    "</div>\n",
    "\n",
    "```python\n",
    "from tkinter import*\n",
    "root = Tk()\n",
    "# Hide main window\n",
    "root.withdraw()\n",
    "root.call('wm', 'attributes', '.', '-topmost', True)\n",
    "\n",
    "from tkinter import filedialog\n",
    "infile = filedialog.askopenfilename()\n",
    "\n",
    "%gui tk\n",
    "```\n",
    "***  "
   ]
  },
  {
   "cell_type": "markdown",
   "metadata": {},
   "source": [
    "## Using Glob to Recursively Find Files\n",
    "\n",
    "```python\n",
    "import os\n",
    "import glob\n",
    "\n",
    "# The starting directory\n",
    "data_dir = 'data'\n",
    "\n",
    "# **\\*.extension allows any directory path between your starting dir\n",
    "# and files with your extension\n",
    "file_paths = os.path.join(DATA_DIR, '**\\*.txt')\n",
    "\n",
    "# The recursive flag tells glob to look below the starting dir\n",
    "file_paths = glob.glob(file_paths, recursive=True)\n",
    "\n",
    "```\n",
    "***  "
   ]
  },
  {
   "cell_type": "markdown",
   "metadata": {},
   "source": [
    "## Windows Encoding\n",
    "Generally, native Windows text files will be encoded as `Latin-1` or `iso-8859-1`.  \n",
    "\n",
    "```python\n",
    "df_1 = pd.read_csv(\"file1.txt\", encoding='latin-1\")\n",
    "df_2 = pd.read_csv(\"file2.txt\", encoding='iso-8859-1\")\n",
    "```\n",
    "***  "
   ]
  },
  {
   "cell_type": "code",
   "execution_count": null,
   "metadata": {},
   "outputs": [],
   "source": []
  }
 ],
 "metadata": {
  "kernelspec": {
   "display_name": "Python 3",
   "language": "python",
   "name": "python3"
  },
  "language_info": {
   "codemirror_mode": {
    "name": "ipython",
    "version": 3
   },
   "file_extension": ".py",
   "mimetype": "text/x-python",
   "name": "python",
   "nbconvert_exporter": "python",
   "pygments_lexer": "ipython3",
   "version": "3.7.0"
  }
 },
 "nbformat": 4,
 "nbformat_minor": 4
}
